{
  "nbformat": 4,
  "nbformat_minor": 0,
  "metadata": {
    "colab": {
      "provenance": []
    },
    "kernelspec": {
      "name": "python3",
      "display_name": "Python 3"
    },
    "language_info": {
      "name": "python"
    }
  },
  "cells": [
    {
      "cell_type": "code",
      "execution_count": 2,
      "metadata": {
        "colab": {
          "base_uri": "https://localhost:8080/",
          "height": 73
        },
        "id": "kpPAJ7Rm45_0",
        "outputId": "8381893f-95c6-4e68-fb7d-cdada21a5afa"
      },
      "outputs": [
        {
          "output_type": "display_data",
          "data": {
            "text/plain": [
              "<IPython.core.display.HTML object>"
            ],
            "text/html": [
              "\n",
              "     <input type=\"file\" id=\"files-4496d7e8-043e-4525-9465-9f7eb79dd241\" name=\"files[]\" multiple disabled\n",
              "        style=\"border:none\" />\n",
              "     <output id=\"result-4496d7e8-043e-4525-9465-9f7eb79dd241\">\n",
              "      Upload widget is only available when the cell has been executed in the\n",
              "      current browser session. Please rerun this cell to enable.\n",
              "      </output>\n",
              "      <script>// Copyright 2017 Google LLC\n",
              "//\n",
              "// Licensed under the Apache License, Version 2.0 (the \"License\");\n",
              "// you may not use this file except in compliance with the License.\n",
              "// You may obtain a copy of the License at\n",
              "//\n",
              "//      http://www.apache.org/licenses/LICENSE-2.0\n",
              "//\n",
              "// Unless required by applicable law or agreed to in writing, software\n",
              "// distributed under the License is distributed on an \"AS IS\" BASIS,\n",
              "// WITHOUT WARRANTIES OR CONDITIONS OF ANY KIND, either express or implied.\n",
              "// See the License for the specific language governing permissions and\n",
              "// limitations under the License.\n",
              "\n",
              "/**\n",
              " * @fileoverview Helpers for google.colab Python module.\n",
              " */\n",
              "(function(scope) {\n",
              "function span(text, styleAttributes = {}) {\n",
              "  const element = document.createElement('span');\n",
              "  element.textContent = text;\n",
              "  for (const key of Object.keys(styleAttributes)) {\n",
              "    element.style[key] = styleAttributes[key];\n",
              "  }\n",
              "  return element;\n",
              "}\n",
              "\n",
              "// Max number of bytes which will be uploaded at a time.\n",
              "const MAX_PAYLOAD_SIZE = 100 * 1024;\n",
              "\n",
              "function _uploadFiles(inputId, outputId) {\n",
              "  const steps = uploadFilesStep(inputId, outputId);\n",
              "  const outputElement = document.getElementById(outputId);\n",
              "  // Cache steps on the outputElement to make it available for the next call\n",
              "  // to uploadFilesContinue from Python.\n",
              "  outputElement.steps = steps;\n",
              "\n",
              "  return _uploadFilesContinue(outputId);\n",
              "}\n",
              "\n",
              "// This is roughly an async generator (not supported in the browser yet),\n",
              "// where there are multiple asynchronous steps and the Python side is going\n",
              "// to poll for completion of each step.\n",
              "// This uses a Promise to block the python side on completion of each step,\n",
              "// then passes the result of the previous step as the input to the next step.\n",
              "function _uploadFilesContinue(outputId) {\n",
              "  const outputElement = document.getElementById(outputId);\n",
              "  const steps = outputElement.steps;\n",
              "\n",
              "  const next = steps.next(outputElement.lastPromiseValue);\n",
              "  return Promise.resolve(next.value.promise).then((value) => {\n",
              "    // Cache the last promise value to make it available to the next\n",
              "    // step of the generator.\n",
              "    outputElement.lastPromiseValue = value;\n",
              "    return next.value.response;\n",
              "  });\n",
              "}\n",
              "\n",
              "/**\n",
              " * Generator function which is called between each async step of the upload\n",
              " * process.\n",
              " * @param {string} inputId Element ID of the input file picker element.\n",
              " * @param {string} outputId Element ID of the output display.\n",
              " * @return {!Iterable<!Object>} Iterable of next steps.\n",
              " */\n",
              "function* uploadFilesStep(inputId, outputId) {\n",
              "  const inputElement = document.getElementById(inputId);\n",
              "  inputElement.disabled = false;\n",
              "\n",
              "  const outputElement = document.getElementById(outputId);\n",
              "  outputElement.innerHTML = '';\n",
              "\n",
              "  const pickedPromise = new Promise((resolve) => {\n",
              "    inputElement.addEventListener('change', (e) => {\n",
              "      resolve(e.target.files);\n",
              "    });\n",
              "  });\n",
              "\n",
              "  const cancel = document.createElement('button');\n",
              "  inputElement.parentElement.appendChild(cancel);\n",
              "  cancel.textContent = 'Cancel upload';\n",
              "  const cancelPromise = new Promise((resolve) => {\n",
              "    cancel.onclick = () => {\n",
              "      resolve(null);\n",
              "    };\n",
              "  });\n",
              "\n",
              "  // Wait for the user to pick the files.\n",
              "  const files = yield {\n",
              "    promise: Promise.race([pickedPromise, cancelPromise]),\n",
              "    response: {\n",
              "      action: 'starting',\n",
              "    }\n",
              "  };\n",
              "\n",
              "  cancel.remove();\n",
              "\n",
              "  // Disable the input element since further picks are not allowed.\n",
              "  inputElement.disabled = true;\n",
              "\n",
              "  if (!files) {\n",
              "    return {\n",
              "      response: {\n",
              "        action: 'complete',\n",
              "      }\n",
              "    };\n",
              "  }\n",
              "\n",
              "  for (const file of files) {\n",
              "    const li = document.createElement('li');\n",
              "    li.append(span(file.name, {fontWeight: 'bold'}));\n",
              "    li.append(span(\n",
              "        `(${file.type || 'n/a'}) - ${file.size} bytes, ` +\n",
              "        `last modified: ${\n",
              "            file.lastModifiedDate ? file.lastModifiedDate.toLocaleDateString() :\n",
              "                                    'n/a'} - `));\n",
              "    const percent = span('0% done');\n",
              "    li.appendChild(percent);\n",
              "\n",
              "    outputElement.appendChild(li);\n",
              "\n",
              "    const fileDataPromise = new Promise((resolve) => {\n",
              "      const reader = new FileReader();\n",
              "      reader.onload = (e) => {\n",
              "        resolve(e.target.result);\n",
              "      };\n",
              "      reader.readAsArrayBuffer(file);\n",
              "    });\n",
              "    // Wait for the data to be ready.\n",
              "    let fileData = yield {\n",
              "      promise: fileDataPromise,\n",
              "      response: {\n",
              "        action: 'continue',\n",
              "      }\n",
              "    };\n",
              "\n",
              "    // Use a chunked sending to avoid message size limits. See b/62115660.\n",
              "    let position = 0;\n",
              "    do {\n",
              "      const length = Math.min(fileData.byteLength - position, MAX_PAYLOAD_SIZE);\n",
              "      const chunk = new Uint8Array(fileData, position, length);\n",
              "      position += length;\n",
              "\n",
              "      const base64 = btoa(String.fromCharCode.apply(null, chunk));\n",
              "      yield {\n",
              "        response: {\n",
              "          action: 'append',\n",
              "          file: file.name,\n",
              "          data: base64,\n",
              "        },\n",
              "      };\n",
              "\n",
              "      let percentDone = fileData.byteLength === 0 ?\n",
              "          100 :\n",
              "          Math.round((position / fileData.byteLength) * 100);\n",
              "      percent.textContent = `${percentDone}% done`;\n",
              "\n",
              "    } while (position < fileData.byteLength);\n",
              "  }\n",
              "\n",
              "  // All done.\n",
              "  yield {\n",
              "    response: {\n",
              "      action: 'complete',\n",
              "    }\n",
              "  };\n",
              "}\n",
              "\n",
              "scope.google = scope.google || {};\n",
              "scope.google.colab = scope.google.colab || {};\n",
              "scope.google.colab._files = {\n",
              "  _uploadFiles,\n",
              "  _uploadFilesContinue,\n",
              "};\n",
              "})(self);\n",
              "</script> "
            ]
          },
          "metadata": {}
        },
        {
          "output_type": "stream",
          "name": "stdout",
          "text": [
            "Saving car.csv to car.csv\n"
          ]
        }
      ],
      "source": [
        "from google.colab import files\n",
        "uploaded = files.upload()\n"
      ]
    },
    {
      "cell_type": "code",
      "source": [],
      "metadata": {
        "id": "59bY6etU470-"
      },
      "execution_count": null,
      "outputs": []
    },
    {
      "cell_type": "code",
      "source": [
        "import numpy as np\n",
        "import pandas as pd\n",
        "import io \n",
        "from sklearn import datasets, linear_model\n",
        "from sklearn.metrics import mean_squared_error, r2_score\n",
        "from sklearn.model_selection import train_test_split\n",
        "import statsmodels.api as sm\n",
        "from scipy import stats\n",
        "df = pd.read_csv(io.BytesIO(uploaded['car.csv']))\n",
        "df\n",
        "df2=df"
      ],
      "metadata": {
        "id": "PUVL2-66dUFE"
      },
      "execution_count": 17,
      "outputs": []
    },
    {
      "cell_type": "code",
      "source": [
        "#drop rows with null values\n",
        "df.replace('?', np.nan, inplace = True)\n",
        "df.dropna(inplace=True)"
      ],
      "metadata": {
        "id": "EfGx_nv-5FoS"
      },
      "execution_count": 4,
      "outputs": []
    },
    {
      "cell_type": "code",
      "source": [
        "# Convert columns to numeric \n",
        "df[['Horsepower']] = df[['Horsepower']].astype(float)\n",
        "df[['Model Year']] = df[['Model Year']].astype(int)\n",
        "df[['US Made']] = df[['US Made']].astype(int)"
      ],
      "metadata": {
        "id": "Ixce-L6b5I-9"
      },
      "execution_count": 5,
      "outputs": []
    },
    {
      "cell_type": "code",
      "source": [
        "# Convert categorical variables to numerical using one-hot encoding\n",
        "df = pd.get_dummies(df, columns=['Cylinders'])"
      ],
      "metadata": {
        "id": "3XmNKNIZ5OG9"
      },
      "execution_count": 6,
      "outputs": []
    },
    {
      "cell_type": "code",
      "source": [
        "# Define X and y\n",
        "X = df.drop(['MPG'], axis=1)\n",
        "y = df['MPG']"
      ],
      "metadata": {
        "id": "epOphxSl5QyW"
      },
      "execution_count": 7,
      "outputs": []
    },
    {
      "cell_type": "code",
      "source": [
        "# check for multicollinearity\n",
        "from statsmodels.stats.outliers_influence import variance_inflation_factor\n",
        "vif = [variance_inflation_factor(X.values, i) for i in range(X.shape[1])]\n",
        "for i in range(X.shape[1]):\n",
        "    print(f\"{X.columns[i]}: {vif[i]:.2f}\")\n",
        "  "
      ],
      "metadata": {
        "colab": {
          "base_uri": "https://localhost:8080/"
        },
        "id": "3lDEIQGv5UMx",
        "outputId": "05a6cb5d-aac3-4531-98d2-9b95796007a5"
      },
      "execution_count": 8,
      "outputs": [
        {
          "output_type": "stream",
          "name": "stdout",
          "text": [
            "Displacement: 23.20\n",
            "Horsepower: 10.50\n",
            "Weight: 11.29\n",
            "Acceleration: 2.68\n",
            "Model Year: 1.27\n",
            "US Made: 2.07\n",
            "Cylinders_3: 8.30\n",
            "Cylinders_4: 378.25\n",
            "Cylinders_5: 7.14\n",
            "Cylinders_6: 163.72\n",
            "Cylinders_8: 222.70\n"
          ]
        }
      ]
    },
    {
      "cell_type": "code",
      "source": [
        "# Split the data into training and testing sets\n",
        "from sklearn.model_selection import train_test_split\n",
        "from sklearn.linear_model import LinearRegression\n",
        "import statsmodels.api as sm\n",
        "from scipy import stats\n",
        "X_train, X_test, y_train, y_test = train_test_split(X, y, test_size=0.2, random_state=0)"
      ],
      "metadata": {
        "id": "JcpQwxf_5WlO"
      },
      "execution_count": 12,
      "outputs": []
    },
    {
      "cell_type": "code",
      "source": [
        "# fit a linear regression model\n",
        "model = LinearRegression().fit(X, y)\n",
        "\n",
        "# get coefficients of the model\n",
        "coef_df = pd.DataFrame({\n",
        "    \"feature\": X.columns,\n",
        "    \"coefficient\": model.coef_\n",
        "})\n",
        "print(coef_df)"
      ],
      "metadata": {
        "colab": {
          "base_uri": "https://localhost:8080/"
        },
        "id": "-N6XqGXR5aSB",
        "outputId": "495ed26b-27da-4934-866b-41a1db818ecf"
      },
      "execution_count": 13,
      "outputs": [
        {
          "output_type": "stream",
          "name": "stdout",
          "text": [
            "         feature  coefficient\n",
            "0   Displacement     0.019342\n",
            "1     Horsepower    -0.033314\n",
            "2         Weight    -0.005970\n",
            "3   Acceleration     0.030126\n",
            "4     Model Year     0.752836\n",
            "5        US Made    -2.227815\n",
            "6    Cylinders_3    -4.067825\n",
            "7    Cylinders_4     2.211178\n",
            "8    Cylinders_5     2.193847\n",
            "9    Cylinders_6    -1.063927\n",
            "10   Cylinders_8     0.726727\n"
          ]
        }
      ]
    },
    {
      "cell_type": "code",
      "source": [
        "# drop highly correlated features\n",
        "X.drop(['Cylinders_4'], axis=1, inplace=True)"
      ],
      "metadata": {
        "id": "KM_IM0Ey5fA4"
      },
      "execution_count": null,
      "outputs": []
    },
    {
      "cell_type": "code",
      "source": [
        "X=sm.add_constant(X_train)\n",
        "model=sm.OLS(y_train,X).fit()\n",
        "print(model.summary())"
      ],
      "metadata": {
        "colab": {
          "base_uri": "https://localhost:8080/"
        },
        "id": "9tZydr4XYaQ4",
        "outputId": "237be67b-ca48-498a-8c52-b41b946f0ea5"
      },
      "execution_count": 22,
      "outputs": [
        {
          "output_type": "stream",
          "name": "stdout",
          "text": [
            "                            OLS Regression Results                            \n",
            "==============================================================================\n",
            "Dep. Variable:                    MPG   R-squared:                       0.846\n",
            "Model:                            OLS   Adj. R-squared:                  0.841\n",
            "Method:                 Least Squares   F-statistic:                     166.1\n",
            "Date:                Mon, 06 Mar 2023   Prob (F-statistic):          2.12e-116\n",
            "Time:                        00:48:52   Log-Likelihood:                -793.01\n",
            "No. Observations:                 313   AIC:                             1608.\n",
            "Df Residuals:                     302   BIC:                             1649.\n",
            "Df Model:                          10                                         \n",
            "Covariance Type:            nonrobust                                         \n",
            "================================================================================\n",
            "                   coef    std err          t      P>|t|      [0.025      0.975]\n",
            "--------------------------------------------------------------------------------\n",
            "const          -12.9921      3.996     -3.251      0.001     -20.856      -5.128\n",
            "Displacement     0.0171      0.008      2.118      0.035       0.001       0.033\n",
            "Horsepower      -0.0300      0.015     -2.046      0.042      -0.059      -0.001\n",
            "Weight          -0.0061      0.001     -8.821      0.000      -0.007      -0.005\n",
            "Acceleration     0.0691      0.101      0.684      0.495      -0.130       0.268\n",
            "Model Year       0.7357      0.054     13.736      0.000       0.630       0.841\n",
            "US Made         -1.7681      0.526     -3.362      0.001      -2.803      -0.733\n",
            "Cylinders_3     -6.6370      1.609     -4.125      0.000      -9.803      -3.471\n",
            "Cylinders_4     -0.4387      0.937     -0.468      0.640      -2.283       1.406\n",
            "Cylinders_5     -0.2413      1.805     -0.134      0.894      -3.794       3.312\n",
            "Cylinders_6     -3.8870      0.996     -3.901      0.000      -5.848      -1.926\n",
            "Cylinders_8     -1.7881      1.407     -1.271      0.205      -4.556       0.980\n",
            "==============================================================================\n",
            "Omnibus:                       40.192   Durbin-Watson:                   1.968\n",
            "Prob(Omnibus):                  0.000   Jarque-Bera (JB):               74.244\n",
            "Skew:                           0.718   Prob(JB):                     7.55e-17\n",
            "Kurtosis:                       4.905   Cond. No.                     9.13e+18\n",
            "==============================================================================\n",
            "\n",
            "Notes:\n",
            "[1] Standard Errors assume that the covariance matrix of the errors is correctly specified.\n",
            "[2] The smallest eigenvalue is 3.61e-29. This might indicate that there are\n",
            "strong multicollinearity problems or that the design matrix is singular.\n"
          ]
        }
      ]
    },
    {
      "cell_type": "code",
      "source": [
        "# check for multicollinearity\n",
        "from statsmodels.stats.outliers_influence import variance_inflation_factor\n",
        "vif = [variance_inflation_factor(X.values, i) for i in range(X.shape[1])]\n",
        "for i in range(X.shape[1]):\n",
        "    print(f\"{X.columns[i]}: {vif[i]:.2f}\")\n",
        "  "
      ],
      "metadata": {
        "colab": {
          "base_uri": "https://localhost:8080/"
        },
        "outputId": "10f5455f-39cd-47a0-9b7a-6b9c9150a6a0",
        "id": "KufYpQhf6d1r"
      },
      "execution_count": 23,
      "outputs": [
        {
          "output_type": "stream",
          "name": "stdout",
          "text": [
            "const: 0.00\n",
            "Displacement: 22.46\n",
            "Horsepower: 10.03\n",
            "Weight: 10.82\n",
            "Acceleration: 2.57\n",
            "Model Year: 1.25\n",
            "US Made: 2.11\n",
            "Cylinders_3: inf\n",
            "Cylinders_4: inf\n",
            "Cylinders_5: inf\n",
            "Cylinders_6: inf\n",
            "Cylinders_8: inf\n"
          ]
        },
        {
          "output_type": "stream",
          "name": "stderr",
          "text": [
            "/usr/local/lib/python3.8/dist-packages/statsmodels/regression/linear_model.py:1752: RuntimeWarning: divide by zero encountered in double_scalars\n",
            "  return 1 - self.ssr/self.centered_tss\n",
            "/usr/local/lib/python3.8/dist-packages/statsmodels/stats/outliers_influence.py:195: RuntimeWarning: divide by zero encountered in double_scalars\n",
            "  vif = 1. / (1. - r_squared_i)\n"
          ]
        }
      ]
    },
    {
      "cell_type": "code",
      "source": [
        "# drop highly correlated features\n",
        "X.drop(['Weight'], axis=1, inplace=True)"
      ],
      "metadata": {
        "id": "p0sGry7u6jP-"
      },
      "execution_count": 24,
      "outputs": []
    },
    {
      "cell_type": "code",
      "source": [
        "X.drop(['Model Year'], axis=1, inplace=True)"
      ],
      "metadata": {
        "id": "Kx-8mK6_7NR_"
      },
      "execution_count": 25,
      "outputs": []
    },
    {
      "cell_type": "code",
      "source": [
        "# Scale the features\n",
        "from sklearn.preprocessing import StandardScaler\n",
        "scaler = StandardScaler()\n",
        "X_train = scaler.fit_transform(X_train)\n",
        "X_test = scaler.transform(X_test)"
      ],
      "metadata": {
        "id": "2tqbJ7mH7VlC"
      },
      "execution_count": 26,
      "outputs": []
    },
    {
      "cell_type": "code",
      "source": [
        "# Train the model\n",
        "from sklearn.linear_model import LinearRegression\n",
        "regressor = LinearRegression()\n",
        "regressor.fit(X_train, y_train)"
      ],
      "metadata": {
        "colab": {
          "base_uri": "https://localhost:8080/",
          "height": 75
        },
        "id": "c9eRYsBT9qJo",
        "outputId": "d26f9933-cf9d-4767-bd38-31cbb9eaf276"
      },
      "execution_count": 27,
      "outputs": [
        {
          "output_type": "execute_result",
          "data": {
            "text/plain": [
              "LinearRegression()"
            ],
            "text/html": [
              "<style>#sk-container-id-1 {color: black;background-color: white;}#sk-container-id-1 pre{padding: 0;}#sk-container-id-1 div.sk-toggleable {background-color: white;}#sk-container-id-1 label.sk-toggleable__label {cursor: pointer;display: block;width: 100%;margin-bottom: 0;padding: 0.3em;box-sizing: border-box;text-align: center;}#sk-container-id-1 label.sk-toggleable__label-arrow:before {content: \"▸\";float: left;margin-right: 0.25em;color: #696969;}#sk-container-id-1 label.sk-toggleable__label-arrow:hover:before {color: black;}#sk-container-id-1 div.sk-estimator:hover label.sk-toggleable__label-arrow:before {color: black;}#sk-container-id-1 div.sk-toggleable__content {max-height: 0;max-width: 0;overflow: hidden;text-align: left;background-color: #f0f8ff;}#sk-container-id-1 div.sk-toggleable__content pre {margin: 0.2em;color: black;border-radius: 0.25em;background-color: #f0f8ff;}#sk-container-id-1 input.sk-toggleable__control:checked~div.sk-toggleable__content {max-height: 200px;max-width: 100%;overflow: auto;}#sk-container-id-1 input.sk-toggleable__control:checked~label.sk-toggleable__label-arrow:before {content: \"▾\";}#sk-container-id-1 div.sk-estimator input.sk-toggleable__control:checked~label.sk-toggleable__label {background-color: #d4ebff;}#sk-container-id-1 div.sk-label input.sk-toggleable__control:checked~label.sk-toggleable__label {background-color: #d4ebff;}#sk-container-id-1 input.sk-hidden--visually {border: 0;clip: rect(1px 1px 1px 1px);clip: rect(1px, 1px, 1px, 1px);height: 1px;margin: -1px;overflow: hidden;padding: 0;position: absolute;width: 1px;}#sk-container-id-1 div.sk-estimator {font-family: monospace;background-color: #f0f8ff;border: 1px dotted black;border-radius: 0.25em;box-sizing: border-box;margin-bottom: 0.5em;}#sk-container-id-1 div.sk-estimator:hover {background-color: #d4ebff;}#sk-container-id-1 div.sk-parallel-item::after {content: \"\";width: 100%;border-bottom: 1px solid gray;flex-grow: 1;}#sk-container-id-1 div.sk-label:hover label.sk-toggleable__label {background-color: #d4ebff;}#sk-container-id-1 div.sk-serial::before {content: \"\";position: absolute;border-left: 1px solid gray;box-sizing: border-box;top: 0;bottom: 0;left: 50%;z-index: 0;}#sk-container-id-1 div.sk-serial {display: flex;flex-direction: column;align-items: center;background-color: white;padding-right: 0.2em;padding-left: 0.2em;position: relative;}#sk-container-id-1 div.sk-item {position: relative;z-index: 1;}#sk-container-id-1 div.sk-parallel {display: flex;align-items: stretch;justify-content: center;background-color: white;position: relative;}#sk-container-id-1 div.sk-item::before, #sk-container-id-1 div.sk-parallel-item::before {content: \"\";position: absolute;border-left: 1px solid gray;box-sizing: border-box;top: 0;bottom: 0;left: 50%;z-index: -1;}#sk-container-id-1 div.sk-parallel-item {display: flex;flex-direction: column;z-index: 1;position: relative;background-color: white;}#sk-container-id-1 div.sk-parallel-item:first-child::after {align-self: flex-end;width: 50%;}#sk-container-id-1 div.sk-parallel-item:last-child::after {align-self: flex-start;width: 50%;}#sk-container-id-1 div.sk-parallel-item:only-child::after {width: 0;}#sk-container-id-1 div.sk-dashed-wrapped {border: 1px dashed gray;margin: 0 0.4em 0.5em 0.4em;box-sizing: border-box;padding-bottom: 0.4em;background-color: white;}#sk-container-id-1 div.sk-label label {font-family: monospace;font-weight: bold;display: inline-block;line-height: 1.2em;}#sk-container-id-1 div.sk-label-container {text-align: center;}#sk-container-id-1 div.sk-container {/* jupyter's `normalize.less` sets `[hidden] { display: none; }` but bootstrap.min.css set `[hidden] { display: none !important; }` so we also need the `!important` here to be able to override the default hidden behavior on the sphinx rendered scikit-learn.org. See: https://github.com/scikit-learn/scikit-learn/issues/21755 */display: inline-block !important;position: relative;}#sk-container-id-1 div.sk-text-repr-fallback {display: none;}</style><div id=\"sk-container-id-1\" class=\"sk-top-container\"><div class=\"sk-text-repr-fallback\"><pre>LinearRegression()</pre><b>In a Jupyter environment, please rerun this cell to show the HTML representation or trust the notebook. <br />On GitHub, the HTML representation is unable to render, please try loading this page with nbviewer.org.</b></div><div class=\"sk-container\" hidden><div class=\"sk-item\"><div class=\"sk-estimator sk-toggleable\"><input class=\"sk-toggleable__control sk-hidden--visually\" id=\"sk-estimator-id-1\" type=\"checkbox\" checked><label for=\"sk-estimator-id-1\" class=\"sk-toggleable__label sk-toggleable__label-arrow\">LinearRegression</label><div class=\"sk-toggleable__content\"><pre>LinearRegression()</pre></div></div></div></div></div>"
            ]
          },
          "metadata": {},
          "execution_count": 27
        }
      ]
    },
    {
      "cell_type": "code",
      "source": [
        "X.drop(['Cylinders_5'], axis=1, inplace=True)"
      ],
      "metadata": {
        "id": "rnGsgR1lZtyc"
      },
      "execution_count": 31,
      "outputs": []
    },
    {
      "cell_type": "code",
      "source": [
        "X.drop(['Cylinders_4'], axis=1, inplace=True)"
      ],
      "metadata": {
        "id": "be42LoLxZ31a"
      },
      "execution_count": 34,
      "outputs": []
    },
    {
      "cell_type": "code",
      "source": [
        "# Predict on test data\n",
        "y_pred = regressor.predict(X_test)\n"
      ],
      "metadata": {
        "id": "bdOp7sCQ9sqZ"
      },
      "execution_count": 35,
      "outputs": []
    },
    {
      "cell_type": "code",
      "source": [
        "X=sm.add_constant(X_train)\n",
        "model=sm.OLS(y_train,X).fit()\n",
        "print(model.summary())"
      ],
      "metadata": {
        "colab": {
          "base_uri": "https://localhost:8080/"
        },
        "id": "2aSMAt7PYPNe",
        "outputId": "902c4ed4-84c6-4535-8f6c-b2473d9bff04"
      },
      "execution_count": 38,
      "outputs": [
        {
          "output_type": "stream",
          "name": "stdout",
          "text": [
            "                            OLS Regression Results                            \n",
            "==============================================================================\n",
            "Dep. Variable:                    MPG   R-squared:                       0.846\n",
            "Model:                            OLS   Adj. R-squared:                  0.841\n",
            "Method:                 Least Squares   F-statistic:                     166.1\n",
            "Date:                Mon, 06 Mar 2023   Prob (F-statistic):          2.12e-116\n",
            "Time:                        00:55:03   Log-Likelihood:                -793.01\n",
            "No. Observations:                 313   AIC:                             1608.\n",
            "Df Residuals:                     302   BIC:                             1649.\n",
            "Df Model:                          10                                         \n",
            "Covariance Type:            nonrobust                                         \n",
            "==============================================================================\n",
            "                 coef    std err          t      P>|t|      [0.025      0.975]\n",
            "------------------------------------------------------------------------------\n",
            "const         23.4824      0.175    133.864      0.000      23.137      23.828\n",
            "x1             1.7605      0.831      2.118      0.035       0.125       3.396\n",
            "x2            -1.1364      0.555     -2.046      0.042      -2.229      -0.043\n",
            "x3            -5.0904      0.577     -8.821      0.000      -6.226      -3.955\n",
            "x4             0.1921      0.281      0.684      0.495      -0.361       0.745\n",
            "x5             2.6886      0.196     13.736      0.000       2.303       3.074\n",
            "x6            -0.8569      0.255     -3.362      0.001      -1.358      -0.355\n",
            "x7            -0.5322      0.198     -2.686      0.008      -0.922      -0.142\n",
            "x8             0.7299      0.301      2.429      0.016       0.138       1.321\n",
            "x9             0.1615      0.180      0.896      0.371      -0.193       0.516\n",
            "x10           -0.8243      0.143     -5.753      0.000      -1.106      -0.542\n",
            "x11            0.0480      0.350      0.137      0.891      -0.641       0.737\n",
            "==============================================================================\n",
            "Omnibus:                       40.192   Durbin-Watson:                   1.968\n",
            "Prob(Omnibus):                  0.000   Jarque-Bera (JB):               74.244\n",
            "Skew:                           0.718   Prob(JB):                     7.55e-17\n",
            "Kurtosis:                       4.905   Cond. No.                     8.86e+15\n",
            "==============================================================================\n",
            "\n",
            "Notes:\n",
            "[1] Standard Errors assume that the covariance matrix of the errors is correctly specified.\n",
            "[2] The smallest eigenvalue is 2.04e-29. This might indicate that there are\n",
            "strong multicollinearity problems or that the design matrix is singular.\n"
          ]
        }
      ]
    },
    {
      "cell_type": "code",
      "source": [
        "# Evaluate the model\n",
        "from sklearn.metrics import r2_score, mean_squared_error\n",
        "r2 = r2_score(y_test, y_pred)\n",
        "mse = mean_squared_error(y_test, y_pred)\n",
        "rmse = np.sqrt(mse)\n",
        "print('R-squared: ', r2)\n",
        "print('Mean Squared Error: ', mse)\n",
        "print('Root Mean Squared Error: ', rmse)"
      ],
      "metadata": {
        "colab": {
          "base_uri": "https://localhost:8080/"
        },
        "id": "5Z9GCad19u5N",
        "outputId": "2531a7b6-5af3-4c29-bc7a-92ca14d97cdf"
      },
      "execution_count": 39,
      "outputs": [
        {
          "output_type": "stream",
          "name": "stdout",
          "text": [
            "R-squared:  0.8421648415855933\n",
            "Mean Squared Error:  9.810293966181955\n",
            "Root Mean Squared Error:  3.1321388804109493\n"
          ]
        }
      ]
    },
    {
      "cell_type": "code",
      "source": [],
      "metadata": {
        "id": "Y5e89P08KZHo"
      },
      "execution_count": null,
      "outputs": []
    }
  ]
}